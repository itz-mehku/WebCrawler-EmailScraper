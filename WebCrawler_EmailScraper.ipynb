{
  "nbformat": 4,
  "nbformat_minor": 0,
  "metadata": {
    "colab": {
      "provenance": [],
      "authorship_tag": "ABX9TyMO4tWRTzdSSrn24ALu8SEV",
      "include_colab_link": true
    },
    "kernelspec": {
      "name": "python3",
      "display_name": "Python 3"
    },
    "language_info": {
      "name": "python"
    }
  },
  "cells": [
    {
      "cell_type": "markdown",
      "metadata": {
        "id": "view-in-github",
        "colab_type": "text"
      },
      "source": [
        "<a href=\"https://colab.research.google.com/github/itz-mehku/WebCrawler-EmailScraper/blob/main/WebCrawler_EmailScraper.ipynb\" target=\"_parent\"><img src=\"https://colab.research.google.com/assets/colab-badge.svg\" alt=\"Open In Colab\"/></a>"
      ]
    },
    {
      "cell_type": "markdown",
      "source": [
        "# **Mini Project 11: Web Crawler (Email Scraper)**"
      ],
      "metadata": {
        "id": "CFcFIG-xSzW8"
      }
    },
    {
      "cell_type": "code",
      "source": [
        "# Step 1: Install required libraries (BeautifulSoup & tqdm)\n",
        "!pip install beautifulsoup4 lxml tqdm"
      ],
      "metadata": {
        "colab": {
          "base_uri": "https://localhost:8080/"
        },
        "id": "8_TLS5aDV2Ds",
        "outputId": "cc581b78-6bd4-480c-fce4-b18c93719ba6"
      },
      "execution_count": 24,
      "outputs": [
        {
          "output_type": "stream",
          "name": "stdout",
          "text": [
            "Requirement already satisfied: beautifulsoup4 in /usr/local/lib/python3.11/dist-packages (4.13.4)\n",
            "Requirement already satisfied: lxml in /usr/local/lib/python3.11/dist-packages (5.4.0)\n",
            "Requirement already satisfied: tqdm in /usr/local/lib/python3.11/dist-packages (4.67.1)\n",
            "Requirement already satisfied: soupsieve>1.2 in /usr/local/lib/python3.11/dist-packages (from beautifulsoup4) (2.7)\n",
            "Requirement already satisfied: typing-extensions>=4.0.0 in /usr/local/lib/python3.11/dist-packages (from beautifulsoup4) (4.14.0)\n"
          ]
        }
      ]
    },
    {
      "cell_type": "code",
      "execution_count": 26,
      "metadata": {
        "colab": {
          "base_uri": "https://localhost:8080/"
        },
        "id": "XjLbmWp7SuPW",
        "outputId": "40c22b44-8f2c-4349-94a3-9bb677896e19"
      },
      "outputs": [
        {
          "output_type": "stream",
          "name": "stderr",
          "text": [
            "/usr/local/lib/python3.11/dist-packages/urllib3/connectionpool.py:1097: InsecureRequestWarning: Unverified HTTPS request is being made to host 'www.thapar.edu'. Adding certificate verification is strongly advised. See: https://urllib3.readthedocs.io/en/latest/advanced-usage.html#tls-warnings\n",
            "  warnings.warn(\n",
            "  0%|          | 0/50 [00:00<?, ?it/s]/usr/local/lib/python3.11/dist-packages/urllib3/connectionpool.py:1097: InsecureRequestWarning: Unverified HTTPS request is being made to host 'www.thapar.edu'. Adding certificate verification is strongly advised. See: https://urllib3.readthedocs.io/en/latest/advanced-usage.html#tls-warnings\n",
            "  warnings.warn(\n",
            "  2%|▏         | 1/50 [00:01<01:29,  1.82s/it]/usr/local/lib/python3.11/dist-packages/urllib3/connectionpool.py:1097: InsecureRequestWarning: Unverified HTTPS request is being made to host 'www.thapar.edu'. Adding certificate verification is strongly advised. See: https://urllib3.readthedocs.io/en/latest/advanced-usage.html#tls-warnings\n",
            "  warnings.warn(\n",
            "  4%|▍         | 2/50 [00:03<01:20,  1.67s/it]/usr/local/lib/python3.11/dist-packages/urllib3/connectionpool.py:1097: InsecureRequestWarning: Unverified HTTPS request is being made to host 'www.thapar.edu'. Adding certificate verification is strongly advised. See: https://urllib3.readthedocs.io/en/latest/advanced-usage.html#tls-warnings\n",
            "  warnings.warn(\n",
            "  6%|▌         | 3/50 [00:04<01:16,  1.62s/it]/usr/local/lib/python3.11/dist-packages/urllib3/connectionpool.py:1097: InsecureRequestWarning: Unverified HTTPS request is being made to host 'www.thapar.edu'. Adding certificate verification is strongly advised. See: https://urllib3.readthedocs.io/en/latest/advanced-usage.html#tls-warnings\n",
            "  warnings.warn(\n",
            "  8%|▊         | 4/50 [00:06<01:14,  1.61s/it]/usr/local/lib/python3.11/dist-packages/urllib3/connectionpool.py:1097: InsecureRequestWarning: Unverified HTTPS request is being made to host 'www.thapar.edu'. Adding certificate verification is strongly advised. See: https://urllib3.readthedocs.io/en/latest/advanced-usage.html#tls-warnings\n",
            "  warnings.warn(\n",
            " 12%|█▏        | 6/50 [00:09<01:09,  1.59s/it]/usr/local/lib/python3.11/dist-packages/urllib3/connectionpool.py:1097: InsecureRequestWarning: Unverified HTTPS request is being made to host 'www.thapar.edu'. Adding certificate verification is strongly advised. See: https://urllib3.readthedocs.io/en/latest/advanced-usage.html#tls-warnings\n",
            "  warnings.warn(\n",
            " 14%|█▍        | 7/50 [00:11<01:08,  1.59s/it]/usr/local/lib/python3.11/dist-packages/urllib3/connectionpool.py:1097: InsecureRequestWarning: Unverified HTTPS request is being made to host 'www.thapar.edu'. Adding certificate verification is strongly advised. See: https://urllib3.readthedocs.io/en/latest/advanced-usage.html#tls-warnings\n",
            "  warnings.warn(\n",
            " 16%|█▌        | 8/50 [00:12<01:07,  1.60s/it]/usr/local/lib/python3.11/dist-packages/urllib3/connectionpool.py:1097: InsecureRequestWarning: Unverified HTTPS request is being made to host 'www.thapar.edu'. Adding certificate verification is strongly advised. See: https://urllib3.readthedocs.io/en/latest/advanced-usage.html#tls-warnings\n",
            "  warnings.warn(\n",
            " 18%|█▊        | 9/50 [00:14<01:05,  1.60s/it]/usr/local/lib/python3.11/dist-packages/urllib3/connectionpool.py:1097: InsecureRequestWarning: Unverified HTTPS request is being made to host 'www.thapar.edu'. Adding certificate verification is strongly advised. See: https://urllib3.readthedocs.io/en/latest/advanced-usage.html#tls-warnings\n",
            "  warnings.warn(\n",
            " 22%|██▏       | 11/50 [00:17<01:02,  1.61s/it]/usr/local/lib/python3.11/dist-packages/urllib3/connectionpool.py:1097: InsecureRequestWarning: Unverified HTTPS request is being made to host 'updated.thapar.edu'. Adding certificate verification is strongly advised. See: https://urllib3.readthedocs.io/en/latest/advanced-usage.html#tls-warnings\n",
            "  warnings.warn(\n",
            " 24%|██▍       | 12/50 [00:19<01:04,  1.69s/it]/usr/local/lib/python3.11/dist-packages/urllib3/connectionpool.py:1097: InsecureRequestWarning: Unverified HTTPS request is being made to host 'www.thapar.edu'. Adding certificate verification is strongly advised. See: https://urllib3.readthedocs.io/en/latest/advanced-usage.html#tls-warnings\n",
            "  warnings.warn(\n",
            " 26%|██▌       | 13/50 [00:21<01:02,  1.69s/it]/usr/local/lib/python3.11/dist-packages/urllib3/connectionpool.py:1097: InsecureRequestWarning: Unverified HTTPS request is being made to host 'www.thapar.edu'. Adding certificate verification is strongly advised. See: https://urllib3.readthedocs.io/en/latest/advanced-usage.html#tls-warnings\n",
            "  warnings.warn(\n",
            " 28%|██▊       | 14/50 [00:23<01:06,  1.86s/it]/usr/local/lib/python3.11/dist-packages/urllib3/connectionpool.py:1097: InsecureRequestWarning: Unverified HTTPS request is being made to host 'www.thapar.edu'. Adding certificate verification is strongly advised. See: https://urllib3.readthedocs.io/en/latest/advanced-usage.html#tls-warnings\n",
            "  warnings.warn(\n",
            " 30%|███       | 15/50 [00:25<01:04,  1.83s/it]/usr/local/lib/python3.11/dist-packages/urllib3/connectionpool.py:1097: InsecureRequestWarning: Unverified HTTPS request is being made to host 'www.thapar.edu'. Adding certificate verification is strongly advised. See: https://urllib3.readthedocs.io/en/latest/advanced-usage.html#tls-warnings\n",
            "  warnings.warn(\n",
            " 32%|███▏      | 16/50 [00:27<01:06,  1.94s/it]/usr/local/lib/python3.11/dist-packages/urllib3/connectionpool.py:1097: InsecureRequestWarning: Unverified HTTPS request is being made to host 'www.thapar.edu'. Adding certificate verification is strongly advised. See: https://urllib3.readthedocs.io/en/latest/advanced-usage.html#tls-warnings\n",
            "  warnings.warn(\n",
            " 36%|███▌      | 18/50 [00:30<00:56,  1.76s/it]/usr/local/lib/python3.11/dist-packages/urllib3/connectionpool.py:1097: InsecureRequestWarning: Unverified HTTPS request is being made to host 'www.thapar.edu'. Adding certificate verification is strongly advised. See: https://urllib3.readthedocs.io/en/latest/advanced-usage.html#tls-warnings\n",
            "  warnings.warn(\n",
            " 38%|███▊      | 19/50 [00:32<00:52,  1.71s/it]/usr/local/lib/python3.11/dist-packages/urllib3/connectionpool.py:1097: InsecureRequestWarning: Unverified HTTPS request is being made to host 'www.thapar.edu'. Adding certificate verification is strongly advised. See: https://urllib3.readthedocs.io/en/latest/advanced-usage.html#tls-warnings\n",
            "  warnings.warn(\n",
            " 40%|████      | 20/50 [00:33<00:50,  1.68s/it]/usr/local/lib/python3.11/dist-packages/urllib3/connectionpool.py:1097: InsecureRequestWarning: Unverified HTTPS request is being made to host 'www.thapar.edu'. Adding certificate verification is strongly advised. See: https://urllib3.readthedocs.io/en/latest/advanced-usage.html#tls-warnings\n",
            "  warnings.warn(\n",
            " 42%|████▏     | 21/50 [00:35<00:48,  1.69s/it]/usr/local/lib/python3.11/dist-packages/urllib3/connectionpool.py:1097: InsecureRequestWarning: Unverified HTTPS request is being made to host 'www.thapar.edu'. Adding certificate verification is strongly advised. See: https://urllib3.readthedocs.io/en/latest/advanced-usage.html#tls-warnings\n",
            "  warnings.warn(\n",
            " 44%|████▍     | 22/50 [00:37<00:47,  1.69s/it]/usr/local/lib/python3.11/dist-packages/urllib3/connectionpool.py:1097: InsecureRequestWarning: Unverified HTTPS request is being made to host 'www.thapar.edu'. Adding certificate verification is strongly advised. See: https://urllib3.readthedocs.io/en/latest/advanced-usage.html#tls-warnings\n",
            "  warnings.warn(\n",
            " 46%|████▌     | 23/50 [00:39<00:45,  1.70s/it]/usr/local/lib/python3.11/dist-packages/urllib3/connectionpool.py:1097: InsecureRequestWarning: Unverified HTTPS request is being made to host 'www.thapar.edu'. Adding certificate verification is strongly advised. See: https://urllib3.readthedocs.io/en/latest/advanced-usage.html#tls-warnings\n",
            "  warnings.warn(\n",
            " 48%|████▊     | 24/50 [00:40<00:43,  1.67s/it]/usr/local/lib/python3.11/dist-packages/urllib3/connectionpool.py:1097: InsecureRequestWarning: Unverified HTTPS request is being made to host 'www.thapar.edu'. Adding certificate verification is strongly advised. See: https://urllib3.readthedocs.io/en/latest/advanced-usage.html#tls-warnings\n",
            "  warnings.warn(\n",
            " 52%|█████▏    | 26/50 [00:43<00:40,  1.68s/it]/usr/local/lib/python3.11/dist-packages/urllib3/connectionpool.py:1097: InsecureRequestWarning: Unverified HTTPS request is being made to host 'www.thapar.edu'. Adding certificate verification is strongly advised. See: https://urllib3.readthedocs.io/en/latest/advanced-usage.html#tls-warnings\n",
            "  warnings.warn(\n",
            "/usr/local/lib/python3.11/dist-packages/urllib3/connectionpool.py:1097: InsecureRequestWarning: Unverified HTTPS request is being made to host 'www.thapar.edu'. Adding certificate verification is strongly advised. See: https://urllib3.readthedocs.io/en/latest/advanced-usage.html#tls-warnings\n",
            "  warnings.warn(\n",
            " 54%|█████▍    | 27/50 [00:46<00:42,  1.85s/it]/usr/local/lib/python3.11/dist-packages/urllib3/connectionpool.py:1097: InsecureRequestWarning: Unverified HTTPS request is being made to host 'www.thapar.edu'. Adding certificate verification is strongly advised. See: https://urllib3.readthedocs.io/en/latest/advanced-usage.html#tls-warnings\n",
            "  warnings.warn(\n",
            " 56%|█████▌    | 28/50 [00:47<00:39,  1.79s/it]/usr/local/lib/python3.11/dist-packages/urllib3/connectionpool.py:1097: InsecureRequestWarning: Unverified HTTPS request is being made to host 'www.thapar.edu'. Adding certificate verification is strongly advised. See: https://urllib3.readthedocs.io/en/latest/advanced-usage.html#tls-warnings\n",
            "  warnings.warn(\n",
            " 58%|█████▊    | 29/50 [00:49<00:37,  1.77s/it]/usr/local/lib/python3.11/dist-packages/urllib3/connectionpool.py:1097: InsecureRequestWarning: Unverified HTTPS request is being made to host 'www.thapar.edu'. Adding certificate verification is strongly advised. See: https://urllib3.readthedocs.io/en/latest/advanced-usage.html#tls-warnings\n",
            "  warnings.warn(\n",
            " 62%|██████▏   | 31/50 [00:53<00:33,  1.74s/it]/usr/local/lib/python3.11/dist-packages/urllib3/connectionpool.py:1097: InsecureRequestWarning: Unverified HTTPS request is being made to host 'www.thapar.edu'. Adding certificate verification is strongly advised. See: https://urllib3.readthedocs.io/en/latest/advanced-usage.html#tls-warnings\n",
            "  warnings.warn(\n",
            " 64%|██████▍   | 32/50 [00:54<00:31,  1.75s/it]/usr/local/lib/python3.11/dist-packages/urllib3/connectionpool.py:1097: InsecureRequestWarning: Unverified HTTPS request is being made to host 'www.thapar.edu'. Adding certificate verification is strongly advised. See: https://urllib3.readthedocs.io/en/latest/advanced-usage.html#tls-warnings\n",
            "  warnings.warn(\n",
            " 66%|██████▌   | 33/50 [00:56<00:29,  1.73s/it]/usr/local/lib/python3.11/dist-packages/urllib3/connectionpool.py:1097: InsecureRequestWarning: Unverified HTTPS request is being made to host 'www.thapar.edu'. Adding certificate verification is strongly advised. See: https://urllib3.readthedocs.io/en/latest/advanced-usage.html#tls-warnings\n",
            "  warnings.warn(\n",
            " 68%|██████▊   | 34/50 [00:58<00:27,  1.69s/it]/usr/local/lib/python3.11/dist-packages/urllib3/connectionpool.py:1097: InsecureRequestWarning: Unverified HTTPS request is being made to host 'www.thapar.edu'. Adding certificate verification is strongly advised. See: https://urllib3.readthedocs.io/en/latest/advanced-usage.html#tls-warnings\n",
            "  warnings.warn(\n",
            " 70%|███████   | 35/50 [00:59<00:25,  1.72s/it]/usr/local/lib/python3.11/dist-packages/urllib3/connectionpool.py:1097: InsecureRequestWarning: Unverified HTTPS request is being made to host 'www.thapar.edu'. Adding certificate verification is strongly advised. See: https://urllib3.readthedocs.io/en/latest/advanced-usage.html#tls-warnings\n",
            "  warnings.warn(\n",
            " 72%|███████▏  | 36/50 [01:01<00:24,  1.72s/it]/usr/local/lib/python3.11/dist-packages/urllib3/connectionpool.py:1097: InsecureRequestWarning: Unverified HTTPS request is being made to host 'lmtsm.thapar.edu'. Adding certificate verification is strongly advised. See: https://urllib3.readthedocs.io/en/latest/advanced-usage.html#tls-warnings\n",
            "  warnings.warn(\n",
            " 76%|███████▌  | 38/50 [01:04<00:19,  1.65s/it]/usr/local/lib/python3.11/dist-packages/urllib3/connectionpool.py:1097: InsecureRequestWarning: Unverified HTTPS request is being made to host 'www.thapar.edu'. Adding certificate verification is strongly advised. See: https://urllib3.readthedocs.io/en/latest/advanced-usage.html#tls-warnings\n",
            "  warnings.warn(\n",
            " 80%|████████  | 40/50 [01:07<00:16,  1.61s/it]/usr/local/lib/python3.11/dist-packages/urllib3/connectionpool.py:1097: InsecureRequestWarning: Unverified HTTPS request is being made to host 'www.thapar.edu'. Adding certificate verification is strongly advised. See: https://urllib3.readthedocs.io/en/latest/advanced-usage.html#tls-warnings\n",
            "  warnings.warn(\n",
            " 82%|████████▏ | 41/50 [01:09<00:15,  1.67s/it]/usr/local/lib/python3.11/dist-packages/urllib3/connectionpool.py:1097: InsecureRequestWarning: Unverified HTTPS request is being made to host 'www.thapar.edu'. Adding certificate verification is strongly advised. See: https://urllib3.readthedocs.io/en/latest/advanced-usage.html#tls-warnings\n",
            "  warnings.warn(\n",
            " 86%|████████▌ | 43/50 [01:12<00:11,  1.63s/it]/usr/local/lib/python3.11/dist-packages/urllib3/connectionpool.py:1097: InsecureRequestWarning: Unverified HTTPS request is being made to host 'www.thapar.edu'. Adding certificate verification is strongly advised. See: https://urllib3.readthedocs.io/en/latest/advanced-usage.html#tls-warnings\n",
            "  warnings.warn(\n",
            " 88%|████████▊ | 44/50 [01:14<00:09,  1.62s/it]/usr/local/lib/python3.11/dist-packages/urllib3/connectionpool.py:1097: InsecureRequestWarning: Unverified HTTPS request is being made to host 'www.thapar.edu'. Adding certificate verification is strongly advised. See: https://urllib3.readthedocs.io/en/latest/advanced-usage.html#tls-warnings\n",
            "  warnings.warn(\n",
            " 90%|█████████ | 45/50 [01:16<00:07,  1.60s/it]/usr/local/lib/python3.11/dist-packages/urllib3/connectionpool.py:1097: InsecureRequestWarning: Unverified HTTPS request is being made to host 'www.thapar.edu'. Adding certificate verification is strongly advised. See: https://urllib3.readthedocs.io/en/latest/advanced-usage.html#tls-warnings\n",
            "  warnings.warn(\n",
            " 92%|█████████▏| 46/50 [01:17<00:06,  1.60s/it]/usr/local/lib/python3.11/dist-packages/urllib3/connectionpool.py:1097: InsecureRequestWarning: Unverified HTTPS request is being made to host 'www.thapar.edu'. Adding certificate verification is strongly advised. See: https://urllib3.readthedocs.io/en/latest/advanced-usage.html#tls-warnings\n",
            "  warnings.warn(\n",
            " 96%|█████████▌| 48/50 [01:20<00:03,  1.59s/it]/usr/local/lib/python3.11/dist-packages/urllib3/connectionpool.py:1097: InsecureRequestWarning: Unverified HTTPS request is being made to host 'www.thapar.edu'. Adding certificate verification is strongly advised. See: https://urllib3.readthedocs.io/en/latest/advanced-usage.html#tls-warnings\n",
            "  warnings.warn(\n",
            " 98%|█████████▊| 49/50 [01:22<00:01,  1.59s/it]/usr/local/lib/python3.11/dist-packages/urllib3/connectionpool.py:1097: InsecureRequestWarning: Unverified HTTPS request is being made to host 'www.thapar.edu'. Adding certificate verification is strongly advised. See: https://urllib3.readthedocs.io/en/latest/advanced-usage.html#tls-warnings\n",
            "  warnings.warn(\n",
            "100%|██████████| 50/50 [01:23<00:00,  1.68s/it]"
          ]
        },
        {
          "output_type": "stream",
          "name": "stdout",
          "text": [
            "\n",
            "✅ Found 59 unique emails:\n",
            "\n",
            "-ajaykumar@thapar.edu\n",
            "-karun.verma@thapar.edu\n",
            "admissions@thapar.edu\n",
            "application.support@thapar.edu\n",
            "caretaker.a@thapar.edu\n",
            "caretaker.b@thapar.edu\n",
            "caretaker.c@thapar.edu\n",
            "caretaker.d@thapar.edu\n",
            "caretaker.e@thapar.edu\n",
            "caretaker.frfg@thapar.edu\n",
            "caretaker.g@thapar.edu\n",
            "caretaker.h@thapar.edu\n",
            "caretaker.i@thapar.edu\n",
            "caretaker.j@thapar.edu\n",
            "caretaker.k@thapar.edu\n",
            "caretaker.l@thapar.edu\n",
            "caretaker.m@thapar.edu\n",
            "caretaker.n@thapar.edu\n",
            "caretaker.o@thapar.edu\n",
            "caretaker.pg@thapar.edu\n",
            "caretaker.q@thapar.edu\n",
            "ddct@thapar.edu\n",
            "dean.outreach@thapar.edu\n",
            "dean.sustainability@thapar.edu\n",
            "deputydirector@thapar.edu\n",
            "director@thapar.edu\n",
            "doaa@thapar.edu\n",
            "dofa@thapar.edu\n",
            "dopa@thapar.edu\n",
            "dorsp@thapar.edu\n",
            "dosa@thapar.edu\n",
            "dydirector1@thapar.edu\n",
            "info@thapar.edu\n",
            "khushneet.jindal@thapar.edu\n",
            "mba_admission@thapar.edu\n",
            "ranking@thapar.edu\n",
            "registrar@thapar.edu\n",
            "ruchi@thapar.edu\n",
            "technical_support@thapar.edu\n",
            "thapar@thapar.edu\n",
            "tpo@thapar.edu\n",
            "warden.k@thapar.edu\n",
            "warden.o@thapar.edu\n",
            "wardena@thapar.edu\n",
            "wardenb@thapar.edu\n",
            "wardenc@thapar.edu\n",
            "wardend@thapar.edu\n",
            "wardene@thapar.edu\n",
            "wardeng@thapar.edu\n",
            "wardenh@thapar.edu\n",
            "wardeni@thapar.edu\n",
            "wardenj@thapar.edu\n",
            "wardenl@thapar.edu\n",
            "wardenm1@thapar.edu\n",
            "wardenm2@thapar.edu\n",
            "wardenmfrfg@thapar.edu\n",
            "wardenn@thapar.edu\n",
            "wardenpg@thapar.edu\n",
            "wardenq@thapar.edu\n"
          ]
        },
        {
          "output_type": "stream",
          "name": "stderr",
          "text": [
            "\n"
          ]
        }
      ],
      "source": [
        "# Step 2: Import modules\n",
        "import re\n",
        "import requests\n",
        "from bs4 import BeautifulSoup\n",
        "from tqdm import tqdm\n",
        "\n",
        "# Step 3: Load the sitemap\n",
        "sitemap_url = 'https://www.thapar.edu/sitemap.xml'\n",
        "response = requests.get(sitemap_url, verify=False) # Added verify=False to disable SSL verification\n",
        "soup = BeautifulSoup(response.content, 'xml')\n",
        "\n",
        "# Step 4: Extract all URLs\n",
        "urls = [loc.text for loc in soup.find_all('loc')]\n",
        "\n",
        "# Step 5: Crawl each page and extract emails\n",
        "email_set = set()\n",
        "\n",
        "for url in tqdm(urls[:50]):  # You can increase the range if needed\n",
        "    try:\n",
        "        page = requests.get(url, timeout=5, verify=False) # Added verify=False to disable SSL verification\n",
        "        text = page.text\n",
        "        emails = re.findall(r'[a-zA-Z0-9._%+-]+@[a-zA-Z0-9.-]+\\.[a-zA-Z]{2,}', text)\n",
        "        email_set.update(emails)\n",
        "    except Exception as e:\n",
        "        print(f\"❌ Error scraping {url}: {e}\")\n",
        "\n",
        "# Step 6: Display Results\n",
        "print(f\"\\n✅ Found {len(email_set)} unique emails:\\n\")\n",
        "for email in sorted(email_set):\n",
        "    print(email)"
      ]
    },
    {
      "cell_type": "code",
      "source": [
        "!pip install fpdf"
      ],
      "metadata": {
        "colab": {
          "base_uri": "https://localhost:8080/"
        },
        "id": "jQFt9LdAWEmD",
        "outputId": "0b91eaaa-b6c9-468b-f8f0-eeb14f31c1e9"
      },
      "execution_count": 27,
      "outputs": [
        {
          "output_type": "stream",
          "name": "stdout",
          "text": [
            "Requirement already satisfied: fpdf in /usr/local/lib/python3.11/dist-packages (1.7.2)\n"
          ]
        }
      ]
    },
    {
      "cell_type": "code",
      "source": [
        "pdf.cell(200, 10, txt=\"Extracted Emails from Thapar Sitemap\", ln=True, align='C')\n"
      ],
      "metadata": {
        "id": "LsRyol3ETjXD"
      },
      "execution_count": 28,
      "outputs": []
    },
    {
      "cell_type": "code",
      "source": [
        "\n",
        "from fpdf import FPDF\n",
        "\n",
        "pdf = FPDF()\n",
        "pdf.add_page()\n",
        "pdf.set_font(\"Arial\", size=12)\n",
        "\n",
        "pdf.cell(200, 10, txt=\"Extracted Emails from Thapar Sitemap\", ln=True, align='C')\n",
        "pdf.ln(10)\n",
        "\n",
        "# Add emails\n",
        "for email in sorted(email_set):\n",
        "    pdf.cell(200, 10, txt=email, ln=True)\n",
        "\n",
        "# Save PDF\n",
        "pdf.output(\"thapar_emails.pdf\")\n",
        "print(\"✅ PDF saved as 'thapar_emails.pdf'\")\n",
        "\n",
        "# Download in Colab\n",
        "from google.colab import files\n",
        "files.download(\"thapar_emails.pdf\")"
      ],
      "metadata": {
        "colab": {
          "base_uri": "https://localhost:8080/",
          "height": 34
        },
        "id": "mHSZePdSUF95",
        "outputId": "d72b47d0-e6ac-4cd1-fbd5-63be0ae5fda9"
      },
      "execution_count": 23,
      "outputs": [
        {
          "output_type": "stream",
          "name": "stdout",
          "text": [
            "✅ PDF saved as 'thapar_emails.pdf'\n"
          ]
        },
        {
          "output_type": "display_data",
          "data": {
            "text/plain": [
              "<IPython.core.display.Javascript object>"
            ],
            "application/javascript": [
              "\n",
              "    async function download(id, filename, size) {\n",
              "      if (!google.colab.kernel.accessAllowed) {\n",
              "        return;\n",
              "      }\n",
              "      const div = document.createElement('div');\n",
              "      const label = document.createElement('label');\n",
              "      label.textContent = `Downloading \"${filename}\": `;\n",
              "      div.appendChild(label);\n",
              "      const progress = document.createElement('progress');\n",
              "      progress.max = size;\n",
              "      div.appendChild(progress);\n",
              "      document.body.appendChild(div);\n",
              "\n",
              "      const buffers = [];\n",
              "      let downloaded = 0;\n",
              "\n",
              "      const channel = await google.colab.kernel.comms.open(id);\n",
              "      // Send a message to notify the kernel that we're ready.\n",
              "      channel.send({})\n",
              "\n",
              "      for await (const message of channel.messages) {\n",
              "        // Send a message to notify the kernel that we're ready.\n",
              "        channel.send({})\n",
              "        if (message.buffers) {\n",
              "          for (const buffer of message.buffers) {\n",
              "            buffers.push(buffer);\n",
              "            downloaded += buffer.byteLength;\n",
              "            progress.value = downloaded;\n",
              "          }\n",
              "        }\n",
              "      }\n",
              "      const blob = new Blob(buffers, {type: 'application/binary'});\n",
              "      const a = document.createElement('a');\n",
              "      a.href = window.URL.createObjectURL(blob);\n",
              "      a.download = filename;\n",
              "      div.appendChild(a);\n",
              "      a.click();\n",
              "      div.remove();\n",
              "    }\n",
              "  "
            ]
          },
          "metadata": {}
        },
        {
          "output_type": "display_data",
          "data": {
            "text/plain": [
              "<IPython.core.display.Javascript object>"
            ],
            "application/javascript": [
              "download(\"download_5c558e48-50dd-445f-82a8-09ab77f98334\", \"thapar_emails.pdf\", 2135)"
            ]
          },
          "metadata": {}
        }
      ]
    }
  ]
}